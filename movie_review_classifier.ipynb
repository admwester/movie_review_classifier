{
 "cells": [
  {
   "cell_type": "code",
   "execution_count": 1,
   "id": "abb3b567-0649-4e02-9bc5-91c21dd6993b",
   "metadata": {},
   "outputs": [],
   "source": [
    "import re\n",
    "\n",
    "import numpy as np\n",
    "import pandas as pd\n",
    "import matplotlib.pyplot as plt\n",
    "\n",
    "import nltk\n",
    "from nltk.corpus import stopwords\n",
    "from nltk.stem.porter import PorterStemmer\n",
    "from nltk.tokenize import word_tokenize\n",
    "\n",
    "from sklearn.model_selection import train_test_split\n",
    "from sklearn.feature_extraction.text import CountVectorizer\n",
    "from sklearn.linear_model import LogisticRegression\n",
    "from sklearn.neural_network import MLPClassifier\n",
    "from sklearn.metrics import classification_report, ConfusionMatrixDisplay"
   ]
  },
  {
   "cell_type": "code",
   "execution_count": 2,
   "id": "bc80a8a1-4d44-4294-83f5-6c4517537b6f",
   "metadata": {},
   "outputs": [],
   "source": [
    "df = pd.read_csv('IMDB Dataset.csv')"
   ]
  },
  {
   "cell_type": "markdown",
   "id": "379cca79-859d-4116-8e7a-27ae0730366f",
   "metadata": {},
   "source": [
    "## 1. Exploratory data-analysis\n"
   ]
  },
  {
   "cell_type": "code",
   "execution_count": 3,
   "id": "197c930b-a2f5-4a6b-aad8-a0e4e3de2e6c",
   "metadata": {},
   "outputs": [
    {
     "data": {
      "text/html": [
       "<div>\n",
       "<style scoped>\n",
       "    .dataframe tbody tr th:only-of-type {\n",
       "        vertical-align: middle;\n",
       "    }\n",
       "\n",
       "    .dataframe tbody tr th {\n",
       "        vertical-align: top;\n",
       "    }\n",
       "\n",
       "    .dataframe thead th {\n",
       "        text-align: right;\n",
       "    }\n",
       "</style>\n",
       "<table border=\"1\" class=\"dataframe\">\n",
       "  <thead>\n",
       "    <tr style=\"text-align: right;\">\n",
       "      <th></th>\n",
       "      <th>review</th>\n",
       "      <th>sentiment</th>\n",
       "    </tr>\n",
       "  </thead>\n",
       "  <tbody>\n",
       "    <tr>\n",
       "      <th>0</th>\n",
       "      <td>One of the other reviewers has mentioned that ...</td>\n",
       "      <td>positive</td>\n",
       "    </tr>\n",
       "    <tr>\n",
       "      <th>1</th>\n",
       "      <td>A wonderful little production. &lt;br /&gt;&lt;br /&gt;The...</td>\n",
       "      <td>positive</td>\n",
       "    </tr>\n",
       "    <tr>\n",
       "      <th>2</th>\n",
       "      <td>I thought this was a wonderful way to spend ti...</td>\n",
       "      <td>positive</td>\n",
       "    </tr>\n",
       "    <tr>\n",
       "      <th>3</th>\n",
       "      <td>Basically there's a family where a little boy ...</td>\n",
       "      <td>negative</td>\n",
       "    </tr>\n",
       "    <tr>\n",
       "      <th>4</th>\n",
       "      <td>Petter Mattei's \"Love in the Time of Money\" is...</td>\n",
       "      <td>positive</td>\n",
       "    </tr>\n",
       "  </tbody>\n",
       "</table>\n",
       "</div>"
      ],
      "text/plain": [
       "                                              review sentiment\n",
       "0  One of the other reviewers has mentioned that ...  positive\n",
       "1  A wonderful little production. <br /><br />The...  positive\n",
       "2  I thought this was a wonderful way to spend ti...  positive\n",
       "3  Basically there's a family where a little boy ...  negative\n",
       "4  Petter Mattei's \"Love in the Time of Money\" is...  positive"
      ]
     },
     "execution_count": 3,
     "metadata": {},
     "output_type": "execute_result"
    }
   ],
   "source": [
    "df.head()"
   ]
  },
  {
   "cell_type": "code",
   "execution_count": 4,
   "id": "2b181a38-9407-4519-892c-f9aeed1f48c0",
   "metadata": {},
   "outputs": [
    {
     "data": {
      "text/html": [
       "<div>\n",
       "<style scoped>\n",
       "    .dataframe tbody tr th:only-of-type {\n",
       "        vertical-align: middle;\n",
       "    }\n",
       "\n",
       "    .dataframe tbody tr th {\n",
       "        vertical-align: top;\n",
       "    }\n",
       "\n",
       "    .dataframe thead th {\n",
       "        text-align: right;\n",
       "    }\n",
       "</style>\n",
       "<table border=\"1\" class=\"dataframe\">\n",
       "  <thead>\n",
       "    <tr style=\"text-align: right;\">\n",
       "      <th></th>\n",
       "      <th>review</th>\n",
       "      <th>sentiment</th>\n",
       "    </tr>\n",
       "  </thead>\n",
       "  <tbody>\n",
       "    <tr>\n",
       "      <th>count</th>\n",
       "      <td>50000</td>\n",
       "      <td>50000</td>\n",
       "    </tr>\n",
       "    <tr>\n",
       "      <th>unique</th>\n",
       "      <td>49582</td>\n",
       "      <td>2</td>\n",
       "    </tr>\n",
       "    <tr>\n",
       "      <th>top</th>\n",
       "      <td>Loved today's show!!! It was a variety and not...</td>\n",
       "      <td>positive</td>\n",
       "    </tr>\n",
       "    <tr>\n",
       "      <th>freq</th>\n",
       "      <td>5</td>\n",
       "      <td>25000</td>\n",
       "    </tr>\n",
       "  </tbody>\n",
       "</table>\n",
       "</div>"
      ],
      "text/plain": [
       "                                                   review sentiment\n",
       "count                                               50000     50000\n",
       "unique                                              49582         2\n",
       "top     Loved today's show!!! It was a variety and not...  positive\n",
       "freq                                                    5     25000"
      ]
     },
     "execution_count": 4,
     "metadata": {},
     "output_type": "execute_result"
    }
   ],
   "source": [
    "df.describe()"
   ]
  },
  {
   "cell_type": "markdown",
   "id": "15f2f680-291c-4db1-800c-e52683766afc",
   "metadata": {},
   "source": [
    "### Visualizations of character frequencies in the reviews"
   ]
  },
  {
   "cell_type": "code",
   "execution_count": 5,
   "id": "572a4f59-1b2b-43ec-a4c5-593b2180aaba",
   "metadata": {},
   "outputs": [],
   "source": [
    "df['review_len'] = df.review.apply(lambda x: len(x))"
   ]
  },
  {
   "cell_type": "code",
   "execution_count": 6,
   "id": "8304cc57-2de0-4d73-abbe-5b8b761690ce",
   "metadata": {},
   "outputs": [
    {
     "data": {
      "text/plain": [
       "array([[<Axes: title={'center': 'review_len'}>]], dtype=object)"
      ]
     },
     "execution_count": 6,
     "metadata": {},
     "output_type": "execute_result"
    },
    {
     "data": {
      "image/png": "[encoded data removed]",
      "text/plain": [
       "<Figure size 640x480 with 1 Axes>"
      ]
     },
     "metadata": {},
     "output_type": "display_data"
    }
   ],
   "source": [
    "df.hist('review_len', bins=1000)"
   ]
  },
  {
   "cell_type": "code",
   "execution_count": 7,
   "id": "218670d1-1504-4af9-9b94-527f0be23756",
   "metadata": {},
   "outputs": [
    {
     "data": {
      "image/png": "[encoded data removed]",
      "text/plain": [
       "<Figure size 1200x600 with 2 Axes>"
      ]
     },
     "metadata": {},
     "output_type": "display_data"
    }
   ],
   "source": [
    "fig, ax = plt.subplots(1, 2, figsize=(12, 6), sharey=True, sharex=True)\n",
    "ax[0].hist(df.review_len[df.sentiment == 'positive'], bins=1000, color='blue')\n",
    "ax[0].set_title('Character frequencies of positive reviews')\n",
    "ax[0].grid(True)\n",
    "ax[1].hist(df.review_len[df.sentiment == 'negative'], bins=1000, color='red')\n",
    "ax[1].set_title('Character frequencies of negative reviews')\n",
    "ax[1].grid(True)\n",
    "fig.tight_layout()\n",
    "plt.show()"
   ]
  },
  {
   "cell_type": "code",
   "execution_count": 8,
   "id": "0828c299-db45-4cc4-881d-ca31525711ca",
   "metadata": {},
   "outputs": [
    {
     "name": "stdout",
     "output_type": "stream",
     "text": [
      "Character frequency statistics of positive reviews\n",
      " count    25000.000000\n",
      "mean      1324.797680\n",
      "std       1031.492627\n",
      "min         65.000000\n",
      "25%        691.000000\n",
      "50%        968.000000\n",
      "75%       1614.000000\n",
      "max      13704.000000\n",
      "Name: review_len, dtype: float64\n",
      "\n",
      "Character frequency statistics of negative reviews\n",
      " count    25000.000000\n",
      "mean      1294.064360\n",
      "std        945.892669\n",
      "min         32.000000\n",
      "25%        706.000000\n",
      "50%        973.000000\n",
      "75%       1567.250000\n",
      "max       8969.000000\n",
      "Name: review_len, dtype: float64\n"
     ]
    }
   ],
   "source": [
    "print('Character frequency statistics of positive reviews\\n', df.review_len[df.sentiment == 'positive'].describe())\n",
    "print()\n",
    "print('Character frequency statistics of negative reviews\\n', df.review_len[df.sentiment == 'negative'].describe())"
   ]
  },
  {
   "cell_type": "markdown",
   "id": "aa34d70d-d5dc-49e7-bb27-3707d170748c",
   "metadata": {},
   "source": [
    "### Key insights:\n",
    "- No missing data\n",
    "- Two labels (positive vs. negative) -> Binary classification problem\n",
    "- Explanatory data is in text format\n",
    "- The reviews contain noise: HTML, punctuation, stopwords."
   ]
  },
  {
   "cell_type": "markdown",
   "id": "1f582358-b702-4d0c-bfb5-654a64fc128c",
   "metadata": {},
   "source": [
    "## 2. Data preprocessing\n",
    "In the exploratory analysis, it was seen that some noise was found in the data for example in the form of HTML markup and punctuation.\n",
    "In this project we will focus only on analysing the words, that will say the letters, although it could be interesting to see whether there is a correlation e.g. between the labels and number of question marks or exclamation marks found in the review.\n",
    "\n",
    "The preprocessing pipeline in short is:\n",
    "1. Getting rid of redundant characters and symbols\n",
    "2. Stopword removal\n",
    "3. Stemming"
   ]
  },
  {
   "cell_type": "code",
   "execution_count": 9,
   "id": "6ab12611-77d9-4806-9988-b5cc1e373681",
   "metadata": {},
   "outputs": [
    {
     "data": {
      "text/plain": [
       "\"One of the other reviewers has mentioned that after watching just 1 Oz episode you'll be hooked. They are right, as this is exactly what happened with me.<br /><br />The first thing that struck me about Oz was its brutality and unflinching scenes of violence, which set in right from the word GO. Trust me, this is not a show for the faint hearted or timid. This show pulls no punches with regards to drugs, sex or violence. Its is hardcore, in the classic use of the word.<br /><br />It is called OZ as that is the nickname given to the Oswald Maximum Security State Penitentary. It focuses mainly on Emerald City, an experimental section of the prison where all the cells have glass fronts and face inwards, so privacy is not high on the agenda. Em City is home to many..Aryans, Muslims, gangstas, Latinos, Christians, Italians, Irish and more....so scuffles, death stares, dodgy dealings and shady agreements are never far away.<br /><br />I would say the main appeal of the show is due to the fact that it goes where other shows wouldn't dare. Forget pretty pictures painted for mainstream audiences, forget charm, forget romance...OZ doesn't mess around. The first episode I ever saw struck me as so nasty it was surreal, I couldn't say I was ready for it, but as I watched more, I developed a taste for Oz, and got accustomed to the high levels of graphic violence. Not just violence, but injustice (crooked guards who'll be sold out for a nickel, inmates who'll kill on order and get away with it, well mannered, middle class inmates being turned into prison bitches due to their lack of street skills or prison experience) Watching Oz, you may become comfortable with what is uncomfortable viewing....thats if you can get in touch with your darker side.\""
      ]
     },
     "execution_count": 9,
     "metadata": {},
     "output_type": "execute_result"
    }
   ],
   "source": [
    "# 0. initial review\n",
    "df.review[0]"
   ]
  },
  {
   "cell_type": "code",
   "execution_count": 10,
   "id": "da7b0088-a568-4a7b-adc7-d724bbd8b5ab",
   "metadata": {},
   "outputs": [],
   "source": [
    "# Define function that performs preprocessing for given review text.\n",
    "\n",
    "STOP_WORDS = set(stopwords.words('english'))\n",
    "STEMMER = PorterStemmer()\n",
    "VECTORIZER = CountVectorizer()\n",
    "\n",
    "def preprocessor(review):\n",
    "    # remove HTML\n",
    "    review = re.sub(r'<.*?>', '', review)\n",
    "    # remove every non-letter character\n",
    "    review = re.sub(r'[^A-Za-z]',' ', review)\n",
    "    # lowercase\n",
    "    review = review.lower()\n",
    "    # remove whitespace and split to string\n",
    "    review = word_tokenize(review)\n",
    "    # remove stopwords and stem the rest\n",
    "    review = ' '.join([STEMMER.stem(word) for word in review if word not in STOP_WORDS])\n",
    "    return review"
   ]
  },
  {
   "cell_type": "code",
   "execution_count": 11,
   "id": "7810613a-b7a8-467d-be1c-292f300fc1ae",
   "metadata": {},
   "outputs": [],
   "source": [
    "df['preprocessed'] = df.review.apply(preprocessor)"
   ]
  },
  {
   "cell_type": "code",
   "execution_count": 12,
   "id": "93ac9631-b919-46f5-bf9b-0c7da0627f19",
   "metadata": {},
   "outputs": [
    {
     "data": {
      "text/plain": [
       "'one review mention watch oz episod hook right exactli happen first thing struck oz brutal unflinch scene violenc set right word go trust show faint heart timid show pull punch regard drug sex violenc hardcor classic use word call oz nicknam given oswald maximum secur state penitentari focus mainli emerald citi experiment section prison cell glass front face inward privaci high agenda em citi home mani aryan muslim gangsta latino christian italian irish scuffl death stare dodgi deal shadi agreement never far away would say main appeal show due fact goe show dare forget pretti pictur paint mainstream audienc forget charm forget romanc oz mess around first episod ever saw struck nasti surreal say readi watch develop tast oz got accustom high level graphic violenc violenc injustic crook guard sold nickel inmat kill order get away well manner middl class inmat turn prison bitch due lack street skill prison experi watch oz may becom comfort uncomfort view that get touch darker side'"
      ]
     },
     "execution_count": 12,
     "metadata": {},
     "output_type": "execute_result"
    }
   ],
   "source": [
    "df.preprocessed[0]"
   ]
  },
  {
   "cell_type": "code",
   "execution_count": 13,
   "id": "2fd9dc19-9cfc-4553-8d03-e93edca11df3",
   "metadata": {},
   "outputs": [
    {
     "data": {
      "text/html": [
       "<div>\n",
       "<style scoped>\n",
       "    .dataframe tbody tr th:only-of-type {\n",
       "        vertical-align: middle;\n",
       "    }\n",
       "\n",
       "    .dataframe tbody tr th {\n",
       "        vertical-align: top;\n",
       "    }\n",
       "\n",
       "    .dataframe thead th {\n",
       "        text-align: right;\n",
       "    }\n",
       "</style>\n",
       "<table border=\"1\" class=\"dataframe\">\n",
       "  <thead>\n",
       "    <tr style=\"text-align: right;\">\n",
       "      <th></th>\n",
       "      <th>review</th>\n",
       "      <th>sentiment</th>\n",
       "      <th>review_len</th>\n",
       "      <th>preprocessed</th>\n",
       "    </tr>\n",
       "  </thead>\n",
       "  <tbody>\n",
       "    <tr>\n",
       "      <th>0</th>\n",
       "      <td>One of the other reviewers has mentioned that ...</td>\n",
       "      <td>positive</td>\n",
       "      <td>1761</td>\n",
       "      <td>one review mention watch oz episod hook right ...</td>\n",
       "    </tr>\n",
       "    <tr>\n",
       "      <th>1</th>\n",
       "      <td>A wonderful little production. &lt;br /&gt;&lt;br /&gt;The...</td>\n",
       "      <td>positive</td>\n",
       "      <td>998</td>\n",
       "      <td>wonder littl product film techniqu unassum old...</td>\n",
       "    </tr>\n",
       "    <tr>\n",
       "      <th>2</th>\n",
       "      <td>I thought this was a wonderful way to spend ti...</td>\n",
       "      <td>positive</td>\n",
       "      <td>926</td>\n",
       "      <td>thought wonder way spend time hot summer weeke...</td>\n",
       "    </tr>\n",
       "    <tr>\n",
       "      <th>3</th>\n",
       "      <td>Basically there's a family where a little boy ...</td>\n",
       "      <td>negative</td>\n",
       "      <td>748</td>\n",
       "      <td>basic famili littl boy jake think zombi closet...</td>\n",
       "    </tr>\n",
       "    <tr>\n",
       "      <th>4</th>\n",
       "      <td>Petter Mattei's \"Love in the Time of Money\" is...</td>\n",
       "      <td>positive</td>\n",
       "      <td>1317</td>\n",
       "      <td>petter mattei love time money visual stun film...</td>\n",
       "    </tr>\n",
       "  </tbody>\n",
       "</table>\n",
       "</div>"
      ],
      "text/plain": [
       "                                              review sentiment  review_len  \\\n",
       "0  One of the other reviewers has mentioned that ...  positive        1761   \n",
       "1  A wonderful little production. <br /><br />The...  positive         998   \n",
       "2  I thought this was a wonderful way to spend ti...  positive         926   \n",
       "3  Basically there's a family where a little boy ...  negative         748   \n",
       "4  Petter Mattei's \"Love in the Time of Money\" is...  positive        1317   \n",
       "\n",
       "                                        preprocessed  \n",
       "0  one review mention watch oz episod hook right ...  \n",
       "1  wonder littl product film techniqu unassum old...  \n",
       "2  thought wonder way spend time hot summer weeke...  \n",
       "3  basic famili littl boy jake think zombi closet...  \n",
       "4  petter mattei love time money visual stun film...  "
      ]
     },
     "execution_count": 13,
     "metadata": {},
     "output_type": "execute_result"
    }
   ],
   "source": [
    "df.head()"
   ]
  },
  {
   "cell_type": "markdown",
   "id": "88f2fcf3-0910-4106-bc9e-b1d09af68e7a",
   "metadata": {},
   "source": [
    "### Train-test-split\n"
   ]
  },
  {
   "cell_type": "code",
   "execution_count": 14,
   "id": "2f4e9a03-992f-483f-80e4-a52ccd3e5503",
   "metadata": {},
   "outputs": [],
   "source": [
    "train, test = train_test_split(df, test_size=0.2)"
   ]
  },
  {
   "cell_type": "markdown",
   "id": "48f4e469-4a57-4538-98b3-ddb267790570",
   "metadata": {},
   "source": [
    "## 3. Feature engineering\n",
    "\n",
    "Next, the explanatory data, which is in text format, should be represented in numerical form such that it can be utilized for optimizing the Machine Learning models."
   ]
  },
  {
   "cell_type": "markdown",
   "id": "27feff5b-bf35-4d9a-8c48-bf930db04bd0",
   "metadata": {},
   "source": [
    "### Feature extraction - Bag of Words"
   ]
  },
  {
   "cell_type": "code",
   "execution_count": 15,
   "id": "ba0646ad-05d2-41d5-a0a1-5513dfd065d8",
   "metadata": {},
   "outputs": [],
   "source": [
    "vectorizer = CountVectorizer()\n",
    "X_train = vectorizer.fit_transform(train.preprocessed)\n",
    "X_test = vectorizer.transform(test.preprocessed)"
   ]
  },
  {
   "cell_type": "code",
   "execution_count": 16,
   "id": "4fd9958d-7619-47d0-945c-ae30bb538e11",
   "metadata": {},
   "outputs": [
    {
     "data": {
      "text/plain": [
       "((40000, 64417), (10000, 64417))"
      ]
     },
     "execution_count": 16,
     "metadata": {},
     "output_type": "execute_result"
    }
   ],
   "source": [
    "X_train.shape, X_test.shape"
   ]
  },
  {
   "cell_type": "markdown",
   "id": "f5ca97aa-3ef9-49ff-8e89-21e3ca13136d",
   "metadata": {},
   "source": [
    "### Dimensionality reduction"
   ]
  },
  {
   "cell_type": "code",
   "execution_count": 17,
   "id": "87512dd7-c3a2-4005-8248-536dff01e476",
   "metadata": {},
   "outputs": [],
   "source": [
    "from sklearn.decomposition import TruncatedSVD"
   ]
  },
  {
   "cell_type": "code",
   "execution_count": 18,
   "id": "85496d5d-a755-4e12-8c79-0a152c6ab9bc",
   "metadata": {},
   "outputs": [],
   "source": [
    "pca = TruncatedSVD(n_components=1000)\n",
    "X_train_svd = pca.fit_transform(X_train)\n",
    "X_test_svd = pca.transform(X_test)"
   ]
  },
  {
   "cell_type": "code",
   "execution_count": 19,
   "id": "c1fde020-f966-4fed-b1c0-15d6a9925d88",
   "metadata": {},
   "outputs": [
    {
     "data": {
      "text/plain": [
       "((40000, 1000), (10000, 1000))"
      ]
     },
     "execution_count": 19,
     "metadata": {},
     "output_type": "execute_result"
    }
   ],
   "source": [
    "X_train_svd.shape, X_test_svd.shape"
   ]
  },
  {
   "cell_type": "markdown",
   "id": "3649cba7-bd05-4e57-8f8a-25606d0a7f61",
   "metadata": {},
   "source": [
    "### Labels"
   ]
  },
  {
   "cell_type": "code",
   "execution_count": 20,
   "id": "ff6218f8-d9af-412c-ae48-4cee0ff5d8c0",
   "metadata": {},
   "outputs": [],
   "source": [
    "y_train, y_test = train.sentiment, test.sentiment"
   ]
  },
  {
   "cell_type": "markdown",
   "id": "2689fd15-8671-46e2-b77a-886dfea8f5d8",
   "metadata": {},
   "source": [
    "## 4. Models"
   ]
  },
  {
   "cell_type": "markdown",
   "id": "eab8102c-b515-4471-88f4-bb7323bd651e",
   "metadata": {},
   "source": [
    "### Logistic Regression"
   ]
  },
  {
   "cell_type": "code",
   "execution_count": 21,
   "id": "d701fc47-50e3-4f9d-b305-b0341f007f99",
   "metadata": {},
   "outputs": [],
   "source": [
    "lr = LogisticRegression(penalty='l2',\n",
    "                        dual=False,\n",
    "                        tol=1e-4,\n",
    "                        C=1.0,\n",
    "                        fit_intercept=True,\n",
    "                        intercept_scaling=1,\n",
    "                        solver='lbfgs',\n",
    "                        max_iter=1000,\n",
    "                        verbose=0\n",
    "                       )\n",
    "lr_model = lr.fit(X_train_svd, y_train)\n",
    "lr_predictions= lr_model.predict(X_test_svd)"
   ]
  },
  {
   "cell_type": "markdown",
   "id": "e4d2b537-34d9-48a8-bf60-4e98e0908506",
   "metadata": {},
   "source": [
    "## Multilayer Perceptron classifier"
   ]
  },
  {
   "cell_type": "code",
   "execution_count": 22,
   "id": "0382120d-7952-4ac1-b850-d08b5aaf73d5",
   "metadata": {},
   "outputs": [],
   "source": [
    "mlp = MLPClassifier(\n",
    "    hidden_layer_sizes=(100,),\n",
    "    activation='relu',\n",
    "    solver='adam',\n",
    "    alpha=0.0001\n",
    "    )\n",
    "mlp = mlp.fit(X_train_svd, y_train)\n",
    "mlp_pred = mlp.predict(X_test_svd)"
   ]
  },
  {
   "cell_type": "markdown",
   "id": "5d728f17-f2ce-47b9-910f-d5b51078e320",
   "metadata": {},
   "source": [
    "## 5. Results"
   ]
  },
  {
   "cell_type": "markdown",
   "id": "cf811750-73f6-47ce-83b8-df476684b4b3",
   "metadata": {},
   "source": [
    "### Results for Logistic Regression"
   ]
  },
  {
   "cell_type": "code",
   "execution_count": 23,
   "id": "e905b496-e00f-4031-a943-a5e652f913a3",
   "metadata": {},
   "outputs": [
    {
     "name": "stdout",
     "output_type": "stream",
     "text": [
      "              precision    recall  f1-score   support\n",
      "\n",
      "    negative      0.881     0.867     0.874      4934\n",
      "    positive      0.873     0.886     0.879      5066\n",
      "\n",
      "    accuracy                          0.877     10000\n",
      "   macro avg      0.877     0.877     0.877     10000\n",
      "weighted avg      0.877     0.877     0.877     10000\n",
      "\n"
     ]
    }
   ],
   "source": [
    "report = classification_report(y_test, lr_predictions, digits=3)\n",
    "print(report)"
   ]
  },
  {
   "cell_type": "code",
   "execution_count": 24,
   "id": "7f8657a9-8de1-4c79-a0ee-b8a55d3c2d6a",
   "metadata": {},
   "outputs": [
    {
     "data": {
      "text/plain": [
       "<sklearn.metrics._plot.confusion_matrix.ConfusionMatrixDisplay at 0x7fb6c2793910>"
      ]
     },
     "execution_count": 24,
     "metadata": {},
     "output_type": "execute_result"
    },
    {
     "data": {
      "image/png": "[encoded data removed]",
      "text/plain": [
       "<Figure size 640x480 with 1 Axes>"
      ]
     },
     "metadata": {},
     "output_type": "display_data"
    }
   ],
   "source": [
    "ConfusionMatrixDisplay.from_predictions(y_test,\n",
    "                                        lr_predictions,\n",
    "                                        cmap='Blues',\n",
    "                                        colorbar=False)\n",
    "\n"
   ]
  },
  {
   "cell_type": "markdown",
   "id": "9ec8dd5a-7f8e-4268-bc62-566c73ddba00",
   "metadata": {},
   "source": [
    "### Results for Multilayer Perceptron"
   ]
  },
  {
   "cell_type": "code",
   "execution_count": 25,
   "id": "aa242d26-c298-4b0e-b85c-31ae1f0fc479",
   "metadata": {},
   "outputs": [
    {
     "name": "stdout",
     "output_type": "stream",
     "text": [
      "              precision    recall  f1-score   support\n",
      "\n",
      "    negative      0.868     0.867     0.868      4934\n",
      "    positive      0.871     0.871     0.871      5066\n",
      "\n",
      "    accuracy                          0.870     10000\n",
      "   macro avg      0.869     0.869     0.869     10000\n",
      "weighted avg      0.869     0.870     0.869     10000\n",
      "\n"
     ]
    }
   ],
   "source": [
    "report = classification_report(y_test, mlp_pred, digits=3)\n",
    "print(report)"
   ]
  },
  {
   "cell_type": "code",
   "execution_count": 26,
   "id": "581da5b7-48d3-4734-a1c7-0ee15b409992",
   "metadata": {},
   "outputs": [
    {
     "data": {
      "text/plain": [
       "<sklearn.metrics._plot.confusion_matrix.ConfusionMatrixDisplay at 0x7fb64f16a090>"
      ]
     },
     "execution_count": 26,
     "metadata": {},
     "output_type": "execute_result"
    },
    {
     "data": {
      "image/png": "[encoded data removed]",
      "text/plain": [
       "<Figure size 640x480 with 1 Axes>"
      ]
     },
     "metadata": {},
     "output_type": "display_data"
    }
   ],
   "source": [
    "ConfusionMatrixDisplay.from_predictions(y_test,\n",
    "                                        mlp_pred,\n",
    "                                        cmap='Blues',\n",
    "                                        colorbar=False\n",
    "                                        )"
   ]
  },
  {
   "cell_type": "code",
   "execution_count": null,
   "id": "a0379700-7b8b-420f-8570-f38b5ab6edf2",
   "metadata": {},
   "outputs": [],
   "source": []
  }
 ],
 "metadata": {
  "kernelspec": {
   "display_name": "Python 3 (ipykernel)",
   "language": "python",
   "name": "python3"
  },
  "language_info": {
   "codemirror_mode": {
    "name": "ipython",
    "version": 3
   },
   "file_extension": ".py",
   "mimetype": "text/x-python",
   "name": "python",
   "nbconvert_exporter": "python",
   "pygments_lexer": "ipython3",
   "version": "3.11.4"
  }
 },
 "nbformat": 4,
 "nbformat_minor": 5
}
